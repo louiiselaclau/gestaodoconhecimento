{
  "nbformat": 4,
  "nbformat_minor": 0,
  "metadata": {
    "kernelspec": {
      "display_name": "Python 3",
      "language": "python",
      "name": "python3"
    },
    "language_info": {
      "codemirror_mode": {
        "name": "ipython",
        "version": 3
      },
      "file_extension": ".py",
      "mimetype": "text/x-python",
      "name": "python",
      "nbconvert_exporter": "python",
      "pygments_lexer": "ipython3",
      "version": "3.7.2"
    },
    "colab": {
      "name": "2020_2_Prova_AV2_Gestão_do_ConhecimentoLouise.ipynb",
      "provenance": [],
      "collapsed_sections": []
    }
  },
  "cells": [
    {
      "cell_type": "markdown",
      "metadata": {
        "id": "8e6IcCsJCxVz"
      },
      "source": [
        "DISCIPLINA: Gestão do Conhecimento\t PROFESSOR(A): Alex Salgado\n",
        "PERÍODO: 7o. TURNO: noite AVALIAÇÃO:\n",
        "\n",
        "ALUNO(A): Louise Felix Laclau\n",
        "\n",
        "GRAU: VISTO DO PROFESSOR:\n"
      ]
    },
    {
      "cell_type": "markdown",
      "metadata": {
        "id": "_3h1pahVCxV2"
      },
      "source": [
        "# Questão 1 - valor (0,0)\n"
      ]
    },
    {
      "cell_type": "markdown",
      "metadata": {
        "id": "A-cj5d2rCxV3"
      },
      "source": [
        "*** Crie um repositório no Github e adicione este arquivo no mesmo\n",
        "\n",
        "\n",
        "1.1 - Você deve escolher uma base de dados aberta que seja possível treinar um modelo de aprendizagem de máquina Supervisionado de Classificação (assim como o exemplo da Iris e Cancer). A partir desta base de dados, você vai treinar o modelo, fazer previsões e calcular a acurácia do mesmo.\n",
        "Obs.: Não utilizar nenhuma base de dados usada em aula,  nos trabalhos ou na biblioteca do sklearn.\n"
      ]
    },
    {
      "cell_type": "markdown",
      "metadata": {
        "id": "3P5uSWxsDb5r"
      },
      "source": [
        "1.1 - Descreva aqui o que sua base de dados guarda."
      ]
    },
    {
      "cell_type": "code",
      "metadata": {
        "id": "CWD182zJCxV4"
      },
      "source": [
        "Minha base de dados guarda um conjunto de dados sobre as medidas das ondas coletadas por boias ocenograficas de medição ancoradas em Mooloolaba - Austrália por um periodo de 30 meses. Contendo a altura da onda,a altura máxima e periodo sem onda, periodo com pico de onda,direção das ondas e temperatura da superficie do mar. "
      ],
      "execution_count": null,
      "outputs": []
    },
    {
      "cell_type": "markdown",
      "metadata": {
        "id": "a-D7KRIzCxV8"
      },
      "source": [
        "1.2 - Após tratada, criar uma pasta no seu GoogleDrive e disponibilizar o link do arquivo de sua base (csv, xlsx, etc) para ser importado no seu código."
      ]
    },
    {
      "cell_type": "code",
      "metadata": {
        "id": "lT8fVn5TCxV8"
      },
      "source": [
        "https://drive.google.com/file/d/1ULMI9KJr22eEU97B3izE31BRTUOVL7D0/view?usp=sharing"
      ],
      "execution_count": null,
      "outputs": []
    },
    {
      "cell_type": "markdown",
      "metadata": {
        "id": "lvPXgDBDCxV_"
      },
      "source": [
        "## Criar um código usando o Jupyter Notebook e responder (através de código) às seguintes questões:\n"
      ]
    },
    {
      "cell_type": "markdown",
      "metadata": {
        "id": "LMkAEsOKCxWA"
      },
      "source": [
        "# Questão 2 - valor (0,5)"
      ]
    },
    {
      "cell_type": "markdown",
      "metadata": {
        "id": "yOSNQel0CxWA"
      },
      "source": [
        "2.1 - Importar os modulos python para machine learn e carregar o arquivo \n",
        "\n",
        "** Sugestão se for do tipo xlsx, usar o read_excel do pandas\n",
        "import pandas as pd\n",
        "dt = pd.read_excel(\"meuarquivo.xlsx\")\n"
      ]
    },
    {
      "cell_type": "code",
      "metadata": {
        "id": "zA6l-qg9CxWB"
      },
      "source": [
        "import pandas as pd\n",
        "from sklearn.model_selection import train_test_split\n",
        "from sklearn.linear_model import LogisticRegression\n",
        "from sklearn.neighbors import KNeighborsClassifier\n",
        "from sklearn import metrics\n",
        "\n",
        "arquivo = pd.read_csv('https://raw.githubusercontent.com/louiiselaclau/gestaodoconhecimento/main/Coastal%20Data%20System%20-%20Waves%20(2).csv')"
      ],
      "execution_count": 20,
      "outputs": []
    },
    {
      "cell_type": "markdown",
      "metadata": {
        "id": "_NIYxnZnCxWD"
      },
      "source": [
        "2.2 - Exibir os primeiros registros desta tabela.\n"
      ]
    },
    {
      "cell_type": "code",
      "metadata": {
        "id": "owd5CVN9CxWE",
        "colab": {
          "base_uri": "https://localhost:8080/",
          "height": 204
        },
        "outputId": "5db7d15e-cabf-401b-b2ea-2d9c7bdb9de5"
      },
      "source": [
        "arquivo.head()"
      ],
      "execution_count": 19,
      "outputs": [
        {
          "output_type": "execute_result",
          "data": {
            "text/html": [
              "<div>\n",
              "<style scoped>\n",
              "    .dataframe tbody tr th:only-of-type {\n",
              "        vertical-align: middle;\n",
              "    }\n",
              "\n",
              "    .dataframe tbody tr th {\n",
              "        vertical-align: top;\n",
              "    }\n",
              "\n",
              "    .dataframe thead th {\n",
              "        text-align: right;\n",
              "    }\n",
              "</style>\n",
              "<table border=\"1\" class=\"dataframe\">\n",
              "  <thead>\n",
              "    <tr style=\"text-align: right;\">\n",
              "      <th></th>\n",
              "      <th>Hs</th>\n",
              "      <th>Hmax</th>\n",
              "      <th>Tz</th>\n",
              "      <th>Tp</th>\n",
              "      <th>Peak Direction</th>\n",
              "      <th>SST</th>\n",
              "    </tr>\n",
              "  </thead>\n",
              "  <tbody>\n",
              "    <tr>\n",
              "      <th>0</th>\n",
              "      <td>0.000</td>\n",
              "      <td>0.00</td>\n",
              "      <td>0.000</td>\n",
              "      <td>0.000</td>\n",
              "      <td>0</td>\n",
              "      <td>0.00</td>\n",
              "    </tr>\n",
              "    <tr>\n",
              "      <th>1</th>\n",
              "      <td>0.875</td>\n",
              "      <td>1.39</td>\n",
              "      <td>4.421</td>\n",
              "      <td>4.506</td>\n",
              "      <td>0</td>\n",
              "      <td>0.00</td>\n",
              "    </tr>\n",
              "    <tr>\n",
              "      <th>2</th>\n",
              "      <td>0.763</td>\n",
              "      <td>1.15</td>\n",
              "      <td>4.520</td>\n",
              "      <td>5.513</td>\n",
              "      <td>49</td>\n",
              "      <td>25.65</td>\n",
              "    </tr>\n",
              "    <tr>\n",
              "      <th>3</th>\n",
              "      <td>0.770</td>\n",
              "      <td>1.41</td>\n",
              "      <td>4.582</td>\n",
              "      <td>5.647</td>\n",
              "      <td>75</td>\n",
              "      <td>25.50</td>\n",
              "    </tr>\n",
              "    <tr>\n",
              "      <th>4</th>\n",
              "      <td>0.747</td>\n",
              "      <td>1.16</td>\n",
              "      <td>4.515</td>\n",
              "      <td>5.083</td>\n",
              "      <td>91</td>\n",
              "      <td>25.45</td>\n",
              "    </tr>\n",
              "  </tbody>\n",
              "</table>\n",
              "</div>"
            ],
            "text/plain": [
              "      Hs  Hmax     Tz     Tp  Peak Direction    SST\n",
              "0  0.000  0.00  0.000  0.000               0   0.00\n",
              "1  0.875  1.39  4.421  4.506               0   0.00\n",
              "2  0.763  1.15  4.520  5.513              49  25.65\n",
              "3  0.770  1.41  4.582  5.647              75  25.50\n",
              "4  0.747  1.16  4.515  5.083              91  25.45"
            ]
          },
          "metadata": {
            "tags": []
          },
          "execution_count": 19
        }
      ]
    },
    {
      "cell_type": "markdown",
      "metadata": {
        "id": "ROM2Hy1CCxWG"
      },
      "source": [
        "2.3 - De que se trata esse banco de dados? e que tipo de previsão pode ser feito com ele?\n"
      ]
    },
    {
      "cell_type": "code",
      "metadata": {
        "id": "Xh68K5SjCxWH"
      },
      "source": [
        "Se trata de uma medição de ondas na Australia. Prever as ondas com base na temperatura, com quais direções se criam as maiores ondas."
      ],
      "execution_count": null,
      "outputs": []
    },
    {
      "cell_type": "markdown",
      "metadata": {
        "id": "1lCf85KKCxWJ"
      },
      "source": [
        "# Questão 3 - valor (0,5)\n"
      ]
    },
    {
      "cell_type": "markdown",
      "metadata": {
        "id": "isyZsq2NCxWK"
      },
      "source": [
        "Utilizando as terminologias de Machine Learning(features e observações):\n",
        "\n"
      ]
    },
    {
      "cell_type": "markdown",
      "metadata": {
        "id": "pbuaWyeECxWL"
      },
      "source": [
        "3.1 - Quantas \"features\" têm nessa base de dados?\n",
        "\n",
        "6 features\n",
        "\n",
        "Hs= altura da onda\n",
        "Hmax= altura maxima da onda\n",
        "Tz= periodo sem onda\n",
        "Tp= periodo de pico de onda \n",
        "Peak direction= direção da onda\n",
        "SST= temperatura da superficie\n",
        "\n",
        "\n",
        "\n"
      ]
    },
    {
      "cell_type": "markdown",
      "metadata": {
        "id": "RtwxkASmCxWN"
      },
      "source": [
        "3.2 - Quantas observações têm nessa base de dados?\n",
        "\n",
        "1.   Item da lista\n",
        "2.   Item da lista\n",
        "\n",
        "R: 318 observações \n",
        "\n"
      ]
    },
    {
      "cell_type": "code",
      "metadata": {
        "id": "yN1QNvh-CxWO",
        "colab": {
          "base_uri": "https://localhost:8080/"
        },
        "outputId": "496ea4a6-de17-4977-b91a-11840afd8607"
      },
      "source": [
        "arquivo.shape"
      ],
      "execution_count": 21,
      "outputs": [
        {
          "output_type": "execute_result",
          "data": {
            "text/plain": [
              "(318, 6)"
            ]
          },
          "metadata": {
            "tags": []
          },
          "execution_count": 21
        }
      ]
    },
    {
      "cell_type": "markdown",
      "metadata": {
        "id": "AudYWfr1CxWQ"
      },
      "source": [
        "# Questão 4 - valor (1,0)\n"
      ]
    },
    {
      "cell_type": "markdown",
      "metadata": {
        "id": "pJxRMc1HCxWR"
      },
      "source": [
        "4.1 - Faça uma previsão, usando o algoritmo de LogisticRegression.\n"
      ]
    },
    {
      "cell_type": "code",
      "metadata": {
        "id": "Tu7ZKtSkCxWS",
        "colab": {
          "base_uri": "https://localhost:8080/"
        },
        "outputId": "32bed9d2-c96e-445c-a2ee-c2224fd301d5"
      },
      "source": [
        "X = arquivo.iloc[:, 0:4]\n",
        "y = arquivo.iloc[:, 4]\n",
        "\n",
        "logReg = LogisticRegression(max_iter=3500)\n",
        "logReg.fit(X, y)\n",
        "logReg.predict(X)"
      ],
      "execution_count": 24,
      "outputs": [
        {
          "output_type": "execute_result",
          "data": {
            "text/plain": [
              "array([  0,  60,  60,  60,  60,  60,  60,  60,  60,  88,  60,  60,  60,\n",
              "        60,  60,  67,  60,  60,  60,  67,  67,  60,  60,  66,  60,  66,\n",
              "        60,  66,  60,   0,  60,  60,  60,  60,  60,  60,  60,  60,  60,\n",
              "       130,  60,  60,  60,  60,  60,  60,  60,  60,  60,  60,  60,  60,\n",
              "        60,  60,  60,  60,  60,  60,  60,  60,  60,  60,  60,  60,  60,\n",
              "        60,  60,  60,  60,  60,  60,  60,  60,  60,  60,  60,  60,  60,\n",
              "        60,  60,  60,  60,  60,  60,  60,  60,  60,  60,  60,  60,  60,\n",
              "        60,  60,  60,  60,  60,  60,  60,  60,  60,  60,  60,  60,  60,\n",
              "        60,  60,  60,  60,  60,  60,  60,  60,  60,  60,  60,  60,  60,\n",
              "        60,  60,  60,  60,  60,  60,  60,  60,  60,  91, 130,  80, 130,\n",
              "       130, 130, 130, 130, 130, 130, 130, 130, 105, 105, 105, 130, 105,\n",
              "       105, 130,  87, 105,  94,  87, 130, 105,  87, 105, 130,  87, 105,\n",
              "       130,  80,  91,  80,  80,  87, 105,  87,  80, 130, 130,  87,  80,\n",
              "        87, 105, 130,  87, 105, 130,  87,  80, 130,  95,  80,  87,  87,\n",
              "        87, 130, 105,  95,  87, 105,  87,  87,  87,  95,  87,  95, 130,\n",
              "        80,  80,  80,  80,  80,  88,  80,  80,  80,  80,  80,  80,  91,\n",
              "        88,  80,  88,  88,  88,  88,  88,  60,  88,  88,  88,  88,  88,\n",
              "        80,  88,  88,  88,  88,  88,  60,  88,  90,  88,  88,  88,  60,\n",
              "        88,  88,  88,  88,  88,  88,  88,  88,  88,  88,  88,  88,  80,\n",
              "        88,  80,  80,  80,  88,  88,  80,  80,  80,  88,  80,  80,  88,\n",
              "        88,  80,  88,  90,  88,  90,  88,  80,  88,  95,  88,  88,  90,\n",
              "        88,  88,  88,  88,  88,  88,  88,  88,  95,  80, 130,  95,  95,\n",
              "        95,  80,  80,  80,  87,  95,  95,  87,  95,  95,  95,  95,  95,\n",
              "        87,  95,  95,  87,  95,  95,  94,  94,  95,  95,  95,  95,  95,\n",
              "        95,  95,  95,  95,  94,  95])"
            ]
          },
          "metadata": {
            "tags": []
          },
          "execution_count": 24
        }
      ]
    },
    {
      "cell_type": "markdown",
      "metadata": {
        "id": "xbpLvAhTCxWU"
      },
      "source": [
        "# Questão 5 - valor (1,5)\n"
      ]
    },
    {
      "cell_type": "markdown",
      "metadata": {
        "id": "cp4fWsL7CxWU"
      },
      "source": [
        "Usando o método de avaliação de acurácia (Treinar e testar na base de dados inteira/Train test entire model), Calcular a acurácia de cada um dos 3 métodos abaixo."
      ]
    },
    {
      "cell_type": "markdown",
      "metadata": {
        "id": "C40t1F9ICxWV"
      },
      "source": [
        "4.1 - Acurácia usando o algoritmo de KNN (com 1 vizinho, k=1)\n"
      ]
    },
    {
      "cell_type": "code",
      "metadata": {
        "id": "3d5YPueDCxWW",
        "colab": {
          "base_uri": "https://localhost:8080/"
        },
        "outputId": "e6496c53-0ea0-4423-bb60-15e12b3b0948"
      },
      "source": [
        "knn = KNeighborsClassifier(n_neighbors=1)\n",
        "knn.fit(X, y)\n",
        "y_pred = knn.predict(X)\n",
        "print(metrics.accuracy_score(y, y_pred))"
      ],
      "execution_count": 25,
      "outputs": [
        {
          "output_type": "stream",
          "text": [
            "1.0\n"
          ],
          "name": "stdout"
        }
      ]
    },
    {
      "cell_type": "markdown",
      "metadata": {
        "id": "mNmy44xfCxWY"
      },
      "source": [
        "4.2 - Acurácia usando o algoritmo de KNN (com 5 vizinho, k=5)\n"
      ]
    },
    {
      "cell_type": "code",
      "metadata": {
        "id": "caGkCtYGCxWY",
        "colab": {
          "base_uri": "https://localhost:8080/"
        },
        "outputId": "b3334b75-28fe-47d4-ab2e-4f2fc5e21ee9"
      },
      "source": [
        "knn = KNeighborsClassifier(n_neighbors=5)\n",
        "knn.fit(X, y)\n",
        "y_pred = knn.predict(X)\n",
        "print(metrics.accuracy_score(y, y_pred))"
      ],
      "execution_count": 26,
      "outputs": [
        {
          "output_type": "stream",
          "text": [
            "0.2893081761006289\n"
          ],
          "name": "stdout"
        }
      ]
    },
    {
      "cell_type": "markdown",
      "metadata": {
        "id": "3xUZm_JICxWa"
      },
      "source": [
        "4.3 - Acurácia usando o algoritmo de LogisticRegression\n"
      ]
    },
    {
      "cell_type": "code",
      "metadata": {
        "id": "VvAgNcVsCxWb",
        "colab": {
          "base_uri": "https://localhost:8080/"
        },
        "outputId": "452c2d72-5a95-485f-b0a4-492288b5f8c2"
      },
      "source": [
        "logReg = LogisticRegression(max_iter=3500)\n",
        "logReg.fit(X,y)\n",
        "y_pred= logReg.predict(X)\n",
        "print(metrics.accuracy_score(y, y_pred))"
      ],
      "execution_count": 27,
      "outputs": [
        {
          "output_type": "stream",
          "text": [
            "0.11006289308176101\n"
          ],
          "name": "stdout"
        }
      ]
    },
    {
      "cell_type": "markdown",
      "metadata": {
        "id": "8FkyIUHbCxWd"
      },
      "source": [
        "4.4 - De acordo com seus resultados anteriores, qual dos 3 métodos é mais eficiente?\n"
      ]
    },
    {
      "cell_type": "code",
      "metadata": {
        "id": "K0AE8XQ1CxWd"
      },
      "source": [
        "O metódo KNN1 foi o que chegou a 1.0, dessa forma tendo a maior acurácia."
      ],
      "execution_count": null,
      "outputs": []
    },
    {
      "cell_type": "code",
      "metadata": {
        "id": "zRDUIRloCxWf"
      },
      "source": [
        "*** Envie o link do seu Github com essa resposta no Classroom\n"
      ],
      "execution_count": null,
      "outputs": []
    }
  ]
}